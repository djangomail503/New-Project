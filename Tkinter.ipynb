{
 "cells": [
  {
   "cell_type": "code",
   "execution_count": 1,
   "metadata": {},
   "outputs": [],
   "source": [
    "import tkinter"
   ]
  },
  {
   "cell_type": "code",
   "execution_count": 2,
   "metadata": {},
   "outputs": [],
   "source": [
    "import tkinter as tk"
   ]
  },
  {
   "cell_type": "code",
   "execution_count": 26,
   "metadata": {},
   "outputs": [],
   "source": [
    "??tk.Label"
   ]
  },
  {
   "cell_type": "code",
   "execution_count": 18,
   "metadata": {},
   "outputs": [],
   "source": [
    "??label.pack"
   ]
  },
  {
   "cell_type": "markdown",
   "metadata": {},
   "source": [
    "## Placing a widget\n",
    "\n",
    "    1.Pack\n",
    "    2.grid\n",
    "    3.place"
   ]
  },
  {
   "cell_type": "code",
   "execution_count": 47,
   "metadata": {},
   "outputs": [],
   "source": [
    "??button.pack"
   ]
  },
  {
   "cell_type": "code",
   "execution_count": 3,
   "metadata": {},
   "outputs": [
    {
     "data": {
      "text/plain": [
       "5"
      ]
     },
     "execution_count": 3,
     "metadata": {},
     "output_type": "execute_result"
    }
   ],
   "source": [
    "sum([2,3])"
   ]
  },
  {
   "cell_type": "code",
   "execution_count": 1,
   "metadata": {},
   "outputs": [],
   "source": [
    "import tkinter as tk"
   ]
  },
  {
   "cell_type": "code",
   "execution_count": null,
   "metadata": {},
   "outputs": [],
   "source": [
    "tk.\n"
   ]
  },
  {
   "cell_type": "code",
   "execution_count": 6,
   "metadata": {},
   "outputs": [
    {
     "name": "stdout",
     "output_type": "stream",
     "text": [
      "4\n",
      "5\n",
      "9\n",
      "4\n",
      "4\n"
     ]
    }
   ],
   "source": [
    "import tkinter as tk\n",
    "\n",
    "Nums = []\n",
    "\n",
    "def fn():\n",
    "    label = tk.Label(master= root_window, text='Button was clicked')\n",
    "    label.pack()\n",
    "\n",
    "def fn2(x):\n",
    "    global Nums\n",
    "    Nums.append(x)\n",
    "    print(x)\n",
    "    \n",
    "def eq():\n",
    "    global Nums\n",
    "    print(sum(Nums))\n",
    "    Nums.clear()\n",
    "\n",
    "root_window = tk.Tk()\n",
    "#button widget\n",
    "button = tk.Button(master=root_window, text = 'Button 1', \n",
    "                  fg='black', bg='white', \n",
    "                  activeforeground = 'red',activebackground = 'yellow',\n",
    "                  command = fn)\n",
    "\n",
    "button.pack(ipadx=50, ipady=20,padx=50, pady=20)\n",
    " \n",
    "button = tk.Button(master=root_window, text = 'Button 2', \n",
    "                  fg='black', bg='white', \n",
    "                  activeforeground = 'red',activebackground = 'yellow',\n",
    "                  command = lambda : fn2(4))\n",
    "\n",
    "button.pack(ipadx=50, ipady=20, padx=50, pady=20)\n",
    "\n",
    "button = tk.Button(master=root_window, text = 'Button 3', \n",
    "                  fg='black', bg='white', \n",
    "                  activeforeground = 'red',activebackground = 'yellow',\n",
    "                  command = lambda : fn2(5))\n",
    "\n",
    "button.pack(ipadx=50, ipady=20)\n",
    "\n",
    "button = tk.Button(master=root_window, text = 'equal', \n",
    "                  fg='black', bg='white', \n",
    "                  activeforeground = 'red',activebackground = 'yellow',\n",
    "                  command = eq)\n",
    "\n",
    "button.pack(ipadx=50, ipady=20)\n",
    "\n",
    "root_window.title('Application')\n",
    "root_window.geometry(\"450x300+100+150\")\n",
    "root_window.mainloop()"
   ]
  },
  {
   "cell_type": "code",
   "execution_count": null,
   "metadata": {},
   "outputs": [],
   "source": []
  },
  {
   "cell_type": "code",
   "execution_count": 43,
   "metadata": {},
   "outputs": [],
   "source": [
    "import tkinter as tk\n",
    "\n",
    "root = tk.Tk()\n",
    "\n",
    "user = tk.StringVar()\n",
    "email = tk.StringVar()\n",
    "mob = tk.IntVar()\n",
    "rec = []\n",
    "def detail():\n",
    "    global rec     \n",
    "    u = user.get()\n",
    "    e = email.get()\n",
    "    m = mob.get()  \n",
    "    dct = {u:[u,e,m]}\n",
    "    rec.append(dct)\n",
    "    \n",
    "    #user_entry.delete(1.0, tk.END)\n",
    "    user.set('')\n",
    "    email.set('')\n",
    "    mob.set(None)\n",
    "\n",
    "label = tk.Label(master=root, text='Username: ')\n",
    "label.place(x=100, y=50)\n",
    "\n",
    "user_entry = tk.Entry(master=root, textvariable=user)\n",
    "user_entry.place(x=175, y=50)\n",
    "\n",
    "label = tk.Label(master=root, text='Email: ')\n",
    "label.place(x=100, y=100)\n",
    "\n",
    "email_entry = tk.Entry(master=root, textvariable=email)\n",
    "email_entry.place(x=175, y=100)\n",
    "\n",
    "label = tk.Label(master=root, text='Mobile: ')\n",
    "label.place(x=100, y=150)\n",
    "\n",
    "mob_entry = tk.Entry(master=root, textvariable=mob)\n",
    "mob_entry.place(x=175, y=150)\n",
    "\n",
    "label = tk.Label(master=root, text='Gender: ')\n",
    "label.place(x=100, y=250)\n",
    "\n",
    "gndr = tk.StringVar()\n",
    "rad_btn = tk.Radiobutton(master=root, text = 'Male',value='M', variable=gndr)\n",
    "rad_btn.place(x=175, y=250)\n",
    "rad_btn = tk.Radiobutton(master=root, text = 'Female',value='F', variable=gndr)\n",
    "rad_btn.place(x=225,y=250)\n",
    "\n",
    "button = tk.Button(master=root, text='Submit', command = detail)\n",
    "button.place(x=175, y=300)\n",
    "\n",
    "root.title('Form App')\n",
    "root.geometry('750x550+150+100')\n",
    "root.mainloop()"
   ]
  },
  {
   "cell_type": "code",
   "execution_count": 44,
   "metadata": {},
   "outputs": [
    {
     "data": {
      "text/plain": [
       "'M'"
      ]
     },
     "execution_count": 44,
     "metadata": {},
     "output_type": "execute_result"
    }
   ],
   "source": [
    "gndr.get()"
   ]
  },
  {
   "cell_type": "code",
   "execution_count": 38,
   "metadata": {},
   "outputs": [],
   "source": [
    "??tk.Radiobutton"
   ]
  },
  {
   "cell_type": "code",
   "execution_count": 30,
   "metadata": {},
   "outputs": [],
   "source": [
    "??user_entry.delete"
   ]
  },
  {
   "cell_type": "code",
   "execution_count": 13,
   "metadata": {},
   "outputs": [],
   "source": [
    "var.set('USER')"
   ]
  },
  {
   "cell_type": "code",
   "execution_count": null,
   "metadata": {},
   "outputs": [],
   "source": [
    "tk.FIRST"
   ]
  }
 ],
 "metadata": {
  "kernelspec": {
   "display_name": "Python 3",
   "language": "python",
   "name": "python3"
  },
  "language_info": {
   "codemirror_mode": {
    "name": "ipython",
    "version": 3
   },
   "file_extension": ".py",
   "mimetype": "text/x-python",
   "name": "python",
   "nbconvert_exporter": "python",
   "pygments_lexer": "ipython3",
   "version": "3.8.3"
  }
 },
 "nbformat": 4,
 "nbformat_minor": 4
}
